{
  "nbformat": 4,
  "nbformat_minor": 0,
  "metadata": {
    "colab": {
      "provenance": [],
      "toc_visible": true,
      "include_colab_link": true
    },
    "kernelspec": {
      "name": "python3",
      "display_name": "Python 3"
    },
    "language_info": {
      "name": "python"
    }
  },
  "cells": [
    {
      "cell_type": "markdown",
      "metadata": {
        "id": "view-in-github",
        "colab_type": "text"
      },
      "source": [
        "<a href=\"https://colab.research.google.com/github/Asphodell/PM_Test/blob/main/test_task.ipynb\" target=\"_parent\"><img src=\"https://colab.research.google.com/assets/colab-badge.svg\" alt=\"Open In Colab\"/></a>"
      ]
    },
    {
      "cell_type": "markdown",
      "source": [
        "## Тестовое задание ЦК Process Mining\n",
        "\n"
      ],
      "metadata": {
        "id": "HVDhlfY7XtXZ"
      }
    },
    {
      "cell_type": "markdown",
      "source": [
        "### Вводная часть"
      ],
      "metadata": {
        "id": "gfgF7zJPYAqb"
      }
    },
    {
      "cell_type": "markdown",
      "source": [
        "#### Работа с git\n",
        "\n",
        "1. Создайте учетную запись на [GitHub](https://github.com/) / Авторизуйтесь под своей учетной записью на [GitHub](https://github.com/)\n",
        "2. Создайте новый репозиторий на GitHub для выполнения тестового задания\n",
        "3. Создайте копию этого ноутбука в GitHub\n",
        "4. Откройте этот блокнот через GitHub в Google Colab\n",
        "5. Выполните Часть 1, 2 тестового задания\n",
        "6. Отправьте изменения на GitHub\n",
        "7. Убедитесь, что все изменения отображаются на GitHub\n",
        "\n",
        "После выполнения задания, предоставьте ссылку на ваш репозиторий для проверки"
      ],
      "metadata": {
        "id": "97XPI4k1XuGL"
      }
    },
    {
      "cell_type": "markdown",
      "source": [
        "### Часть 1: Python"
      ],
      "metadata": {
        "id": "kiCTFR2EYEzf"
      }
    },
    {
      "cell_type": "markdown",
      "source": [
        "\n",
        "#### Работа со списками\n",
        "\n",
        "1. Создайте список из 10 единиц и запишите его в переменную lst\n",
        "\n",
        "2. Добавьте вложенный список  ['a', 'b', 'a', 'hello'] на позицию с индексом 2\n",
        "\n",
        "3. Удалите элемент 'hello' из вложенного списка по значению"
      ],
      "metadata": {
        "id": "JCO889b_Jq5A"
      }
    },
    {
      "cell_type": "markdown",
      "source": [
        "#### Анализ данных\n",
        "    \n",
        "##### Задание 1. Обработка данных с использованием библиотек анализа данных\n",
        "\n",
        "**Входные данные:** Вам предоставляется файл XLSX с данными о продаже товаров\n",
        "\n",
        "**Ваша задача:**\n",
        "\n",
        "1. Посчитать общую сумму продажи\n",
        "2. Найти товары с MIN суммой продажи, вывести имя товара и сумму продажи\n",
        "3. Вывести строки DataFrame по товару с MAX суммой продажи\n",
        "4. Рассчитать среднюю и медианную сумму продажи\n",
        "5. Создать столбец с типом товара (См. столбец \"Характеристики\")\n",
        "6. Создать столбец с годом продажи\n",
        "7. Ответить на вопрос \"В каком году было продано максимальное количество товара?\"\n",
        "8. Сохранить результаты в новый файл формата CSV"
      ],
      "metadata": {
        "id": "q9_rFuPrJu2Y"
      }
    },
    {
      "cell_type": "code",
      "source": [
        "import pandas as pd\n",
        "\n",
        "# Файл с данными о продаже товаров\n",
        "\n",
        "url_1='https://drive.google.com/uc?id=1ZMy4rJP4NVoYqGVoEsp1YHHx6V6lOyNk'\n",
        "data = pd.read_excel(url_1)"
      ],
      "metadata": {
        "id": "f393heFxJ4ww"
      },
      "execution_count": null,
      "outputs": []
    },
    {
      "cell_type": "code",
      "source": [],
      "metadata": {
        "id": "rRv64rAvhNkv"
      },
      "execution_count": null,
      "outputs": []
    },
    {
      "cell_type": "markdown",
      "source": [
        "### Часть 2: SQL"
      ],
      "metadata": {
        "id": "ioFfa8wBYUhX"
      }
    },
    {
      "cell_type": "markdown",
      "source": [
        "\n",
        "#### SQL запросы\n",
        "\n",
        "##### Задание 1. SQL запросы с использованием библиотеки SQLite3\n",
        "\n",
        "**Входные данные:** Вам предоставляется файл CSV и описание таблицы \"OPERATIONS\"\n",
        "\n",
        "**OPERATIONS**\n",
        "\n",
        "NAME | TYPE | DESCRIPTION |\n",
        ":-: | :-: | :-: |\n",
        "ID | NUMBER | Идентификатор |\n",
        "OPER_NUM | NUMBER | Номер операции |\n",
        "START_TIME | DATETIME | Дата начала операции |\n",
        "END_TIME | DATETIME | Дата окончания операции |\n",
        "\n",
        "**Ваша задача:**\n",
        "\n",
        "1. Напишите SQL-запрос, который выводит количество ID с количеством операций свыше 40"
      ],
      "metadata": {
        "id": "Z-SwB7pYJu5N"
      }
    },
    {
      "cell_type": "code",
      "source": [
        "import pandas as pd\n",
        "import sqlite3\n",
        "\n",
        "url_2='https://drive.google.com/uc?id=11kEG1b5t2CjZrG9D-0FedpUbJW-38jR_'\n",
        "\n",
        "data = pd.read_csv(url_2, sep=';', engine='python')\n",
        "\n",
        "data['START_TIME'] = pd.to_datetime(data['START_TIME'], dayfirst=True)\n",
        "data['END_TIME'] = pd.to_datetime(data['END_TIME'], dayfirst=True)\n",
        "\n",
        "connection = sqlite3.connect('db.db')\n",
        "data.to_sql('OPERATIONS', connection, index=False)\n",
        "cursor = connection.cursor()"
      ],
      "metadata": {
        "id": "r768axDyJQ-9"
      },
      "execution_count": null,
      "outputs": []
    },
    {
      "cell_type": "code",
      "source": [],
      "metadata": {
        "id": "b5VMCZz4fOud"
      },
      "execution_count": null,
      "outputs": []
    }
  ]
}